{
 "cells": [
  {
   "cell_type": "markdown",
   "id": "688840ef",
   "metadata": {},
   "source": [
    "## Example: Self-Exciting Multi Armed Bandit"
   ]
  },
  {
   "cell_type": "code",
   "execution_count": 31,
   "id": "6d893345",
   "metadata": {},
   "outputs": [
    {
     "name": "stdout",
     "output_type": "stream",
     "text": [
      "The autoreload extension is already loaded. To reload it, use:\n",
      "  %reload_ext autoreload\n"
     ]
    }
   ],
   "source": [
    "%load_ext autoreload\n",
    "%autoreload 2\n",
    "import numpy as np\n",
    "import copy \n",
    "import random\n",
    "import pandas as pd\n",
    "from tqdm import tqdm\n",
    "from scipy.stats import binom\n",
    "from scipy.optimize import minimize\n",
    "import matplotlib.pyplot as plt\n",
    "from Q_learning import *"
   ]
  },
  {
   "cell_type": "markdown",
   "id": "132d503b",
   "metadata": {},
   "source": [
    "Setting"
   ]
  },
  {
   "cell_type": "code",
   "execution_count": 32,
   "id": "63cdc7f0",
   "metadata": {},
   "outputs": [],
   "source": [
    "max_invest = 5\n",
    "X = np.array([np.array([i,j]) for i in np.concatenate([np.arange(-max_invest,0,1),np.arange(1,max_invest+1,1)]) for j in [0,1]])\n",
    "A = np.array([np.array([i,j]) for i in np.arange(1,max_invest+1,1) for j in [0,1]])\n",
    "p = [0.4,0.6]\n",
    "lam_p = 0.1\n",
    "def c(x,y):\n",
    "    return np.linalg.norm(x-y)\n",
    "\n",
    "def r(x,a,y):\n",
    "    return y[0]\n",
    "\n",
    "def P_0(x,a):\n",
    "    return np.concatenate([[a[0]*(2*binom.rvs(1,p[a[1]]+lam_p*np.sign(x[0])*(x[1]==a[1]))-1)],[a[1]]])\n",
    "    \n",
    "def p_0(k,x,a):\n",
    "    return binom.pmf(0.5*(k[0]/(a[0])+1),1,p[a[1]]+lam_p*np.sign(x[0])*(x[1]==a[1]))*(k[1]==a[1])\n",
    "   \n",
    "epsilon = 0.5 # Radius of the Wasserstein Ball\n",
    "alpha = 0.45 # Discount Factor\n",
    "rng = np.random.default_rng()\n",
    "x_0 = rng.choice(X) #Initial Value"
   ]
  },
  {
   "cell_type": "markdown",
   "id": "742399cd",
   "metadata": {},
   "source": [
    "### Training"
   ]
  },
  {
   "cell_type": "code",
   "execution_count": 36,
   "id": "c3962cfd",
   "metadata": {
    "scrolled": true
   },
   "outputs": [
    {
     "name": "stderr",
     "output_type": "stream",
     "text": [
      "100%|██████████| 50000/50000 [14:28:14<00:00,  1.04s/it]   \n",
      "100%|██████████| 50000/50000 [00:06<00:00, 7287.11it/s]\n"
     ]
    }
   ],
   "source": [
    "Q_opt_robust = robust_q_learning(X,\n",
    "               A,\n",
    "               r,\n",
    "               c,\n",
    "               P_0, # Simulation of next state in dependence of x and a\n",
    "               p_0, # The probability mass function\n",
    "               epsilon,\n",
    "               alpha,\n",
    "               x_0, \n",
    "               eps_greedy = 0.1,\n",
    "               Nr_iter = 50000,\n",
    "               q =1,\n",
    "               gamma_t_tilde = lambda t: 1/(t+1),\n",
    "               Q_0 = np.ones([len(X),len(A)]))\n",
    "Q_opt_nonrobust = q_learning(X,\n",
    "               A,\n",
    "               r,\n",
    "               P_0, # Simulation of next state in dependence of x and a\n",
    "               alpha,\n",
    "               x_0, \n",
    "               eps_greedy = 0.1,\n",
    "               Nr_iter = 50000,\n",
    "               gamma_t_tilde = lambda t: 1/(t+1),\n",
    "                Q_0 = np.ones([len(X),len(A)]))"
   ]
  },
  {
   "cell_type": "markdown",
   "id": "b194808c",
   "metadata": {},
   "source": [
    "### Determine the optimal strategies"
   ]
  },
  {
   "cell_type": "code",
   "execution_count": 37,
   "id": "924f6223",
   "metadata": {},
   "outputs": [],
   "source": [
    "if np.ndim(A)>1:\n",
    "    A_list = A\n",
    "else:\n",
    "    A_list = np.array([[a] for a in A])\n",
    "if np.ndim(X)>1:\n",
    "    X_list = X\n",
    "else:\n",
    "    X_list = np.array([[x] for x in X])\n",
    "def a_index(a):\n",
    "    return np.flatnonzero((a==A_list).all(1))[0]\n",
    "def x_index(x):\n",
    "    return np.flatnonzero((x==X_list).all(1))[0]\n",
    "def a_opt_robust(x):\n",
    "    return A[np.argmax(Q_opt_robust[x_index(x),:])]\n",
    "def a_opt_nonrobust(x):\n",
    "    return A[np.argmax(Q_opt_nonrobust[x_index(x),:])]"
   ]
  },
  {
   "cell_type": "markdown",
   "id": "e103ca7f",
   "metadata": {},
   "source": [
    "### Take a look at the strategies"
   ]
  },
  {
   "cell_type": "code",
   "execution_count": 38,
   "id": "ce486872",
   "metadata": {},
   "outputs": [
    {
     "data": {
      "text/html": [
       "<div>\n",
       "<style scoped>\n",
       "    .dataframe tbody tr th:only-of-type {\n",
       "        vertical-align: middle;\n",
       "    }\n",
       "\n",
       "    .dataframe tbody tr th {\n",
       "        vertical-align: top;\n",
       "    }\n",
       "\n",
       "    .dataframe thead th {\n",
       "        text-align: right;\n",
       "    }\n",
       "</style>\n",
       "<table border=\"1\" class=\"dataframe\">\n",
       "  <thead>\n",
       "    <tr style=\"text-align: right;\">\n",
       "      <th></th>\n",
       "      <th>[-5  0]</th>\n",
       "      <th>[-5  1]</th>\n",
       "      <th>[-4  0]</th>\n",
       "      <th>[-4  1]</th>\n",
       "      <th>[-3  0]</th>\n",
       "      <th>[-3  1]</th>\n",
       "      <th>[-2  0]</th>\n",
       "      <th>[-2  1]</th>\n",
       "      <th>[-1  0]</th>\n",
       "      <th>[-1  1]</th>\n",
       "      <th>...</th>\n",
       "      <th>[1 1]</th>\n",
       "      <th>[2 0]</th>\n",
       "      <th>[2 1]</th>\n",
       "      <th>[3 0]</th>\n",
       "      <th>[3 1]</th>\n",
       "      <th>[4 0]</th>\n",
       "      <th>[4 1]</th>\n",
       "      <th>[5 0]</th>\n",
       "      <th>[5 1]</th>\n",
       "      <th>x</th>\n",
       "    </tr>\n",
       "  </thead>\n",
       "  <tbody>\n",
       "    <tr>\n",
       "      <th>0</th>\n",
       "      <td>[4 1]</td>\n",
       "      <td>[2 1]</td>\n",
       "      <td>[4 1]</td>\n",
       "      <td>[1 1]</td>\n",
       "      <td>[2 1]</td>\n",
       "      <td>[1 1]</td>\n",
       "      <td>[4 1]</td>\n",
       "      <td>[1 1]</td>\n",
       "      <td>[3 1]</td>\n",
       "      <td>[2 1]</td>\n",
       "      <td>...</td>\n",
       "      <td>[5 1]</td>\n",
       "      <td>[1 0]</td>\n",
       "      <td>[5 1]</td>\n",
       "      <td>[3 1]</td>\n",
       "      <td>[3 1]</td>\n",
       "      <td>[1 1]</td>\n",
       "      <td>[5 1]</td>\n",
       "      <td>[2 1]</td>\n",
       "      <td>[5 1]</td>\n",
       "      <td>Robust</td>\n",
       "    </tr>\n",
       "    <tr>\n",
       "      <th>1</th>\n",
       "      <td>[5 1]</td>\n",
       "      <td>[2 1]</td>\n",
       "      <td>[1 1]</td>\n",
       "      <td>[1 1]</td>\n",
       "      <td>[5 1]</td>\n",
       "      <td>[1 1]</td>\n",
       "      <td>[3 1]</td>\n",
       "      <td>[2 1]</td>\n",
       "      <td>[5 1]</td>\n",
       "      <td>[3 1]</td>\n",
       "      <td>...</td>\n",
       "      <td>[4 1]</td>\n",
       "      <td>[4 1]</td>\n",
       "      <td>[5 1]</td>\n",
       "      <td>[2 0]</td>\n",
       "      <td>[5 1]</td>\n",
       "      <td>[4 0]</td>\n",
       "      <td>[3 1]</td>\n",
       "      <td>[5 1]</td>\n",
       "      <td>[5 1]</td>\n",
       "      <td>Non-Robust</td>\n",
       "    </tr>\n",
       "  </tbody>\n",
       "</table>\n",
       "<p>2 rows × 21 columns</p>\n",
       "</div>"
      ],
      "text/plain": [
       "  [-5  0] [-5  1] [-4  0] [-4  1] [-3  0] [-3  1] [-2  0] [-2  1] [-1  0]  \\\n",
       "0   [4 1]   [2 1]   [4 1]   [1 1]   [2 1]   [1 1]   [4 1]   [1 1]   [3 1]   \n",
       "1   [5 1]   [2 1]   [1 1]   [1 1]   [5 1]   [1 1]   [3 1]   [2 1]   [5 1]   \n",
       "\n",
       "  [-1  1]  ...  [1 1]  [2 0]  [2 1]  [3 0]  [3 1]  [4 0]  [4 1]  [5 0]  [5 1]  \\\n",
       "0   [2 1]  ...  [5 1]  [1 0]  [5 1]  [3 1]  [3 1]  [1 1]  [5 1]  [2 1]  [5 1]   \n",
       "1   [3 1]  ...  [4 1]  [4 1]  [5 1]  [2 0]  [5 1]  [4 0]  [3 1]  [5 1]  [5 1]   \n",
       "\n",
       "            x  \n",
       "0      Robust  \n",
       "1  Non-Robust  \n",
       "\n",
       "[2 rows x 21 columns]"
      ]
     },
     "metadata": {},
     "output_type": "display_data"
    }
   ],
   "source": [
    "rob_strat = [str(a_opt_robust(x)) for x in X]\n",
    "nonrob_strat = [str(a_opt_nonrobust(x)) for x in X]\n",
    "Strats = pd.DataFrame(np.array([rob_strat,nonrob_strat]))\n",
    "Strats.columns = [str(x) for x in X]\n",
    "Strats[\"x\"]=[r\"$a_{\\operatorname{Robust}}(x)$\",r\"$a_{\\operatorname{Non-Robust}}(x)$\"]\n",
    "Strats[\"x\"]=[\"Robust\",\"Non-Robust\"]\n",
    "display(Strats)"
   ]
  },
  {
   "cell_type": "code",
   "execution_count": 42,
   "id": "964a34e6",
   "metadata": {},
   "outputs": [
    {
     "name": "stdout",
     "output_type": "stream",
     "text": [
      "['[4 1]', '[2 1]', '[4 1]', '[1 1]', '[2 1]', '[1 1]', '[4 1]', '[1 1]', '[3 1]', '[2 1]', '[2 1]', '[5 1]', '[1 0]', '[5 1]', '[3 1]', '[3 1]', '[1 1]', '[5 1]', '[2 1]', '[5 1]']\n",
      "['[5 1]', '[2 1]', '[1 1]', '[1 1]', '[5 1]', '[1 1]', '[3 1]', '[2 1]', '[5 1]', '[3 1]', '[1 1]', '[4 1]', '[4 1]', '[5 1]', '[2 0]', '[5 1]', '[4 0]', '[3 1]', '[5 1]', '[5 1]']\n"
     ]
    }
   ],
   "source": [
    "print(rob_strat)\n",
    "print(nonrob_strat)"
   ]
  },
  {
   "cell_type": "code",
   "execution_count": 43,
   "id": "a7c0d3bd",
   "metadata": {},
   "outputs": [
    {
     "data": {
      "text/plain": [
       "2.8"
      ]
     },
     "execution_count": 43,
     "metadata": {},
     "output_type": "execute_result"
    }
   ],
   "source": [
    "np.mean([a_opt_robust(x)[0] for x in X])"
   ]
  },
  {
   "cell_type": "code",
   "execution_count": 44,
   "id": "16932eb8",
   "metadata": {},
   "outputs": [
    {
     "data": {
      "text/plain": [
       "3.3"
      ]
     },
     "execution_count": 44,
     "metadata": {},
     "output_type": "execute_result"
    }
   ],
   "source": [
    "np.mean([a_opt_nonrobust(x)[0] for x in X])"
   ]
  },
  {
   "cell_type": "markdown",
   "id": "78a1dbc6",
   "metadata": {},
   "source": [
    "### Evaluation"
   ]
  },
  {
   "cell_type": "code",
   "execution_count": 39,
   "id": "3dbd4532",
   "metadata": {},
   "outputs": [],
   "source": [
    "def cumulated_rewards(N_iter,a,X_0):\n",
    "    rew = []\n",
    "    for i in range(N_iter):\n",
    "        X_1 = P_0(X_0,a(X_0))\n",
    "        rew.append(r(X_0,a(X_0),X_1))\n",
    "        X_0 = X_1\n",
    "    return np.sum(rew)"
   ]
  },
  {
   "cell_type": "code",
   "execution_count": 40,
   "id": "5fa0e63c",
   "metadata": {},
   "outputs": [],
   "source": [
    "N = 100000\n",
    "robust_rewards = []\n",
    "non_robust_rewards = []\n",
    "#Different Scenarios\n",
    "Probs = [[0.4,0.6],[0.45,0.5],[0.45,0.55],[0.6,0.4],[0.5,0.5],[0.55,0.45]]\n",
    "rng = np.random.default_rng()\n",
    "x_0 = rng.choice(X) #Initial Value\n",
    "for p in  Probs:\n",
    "    robust_rewards.append(cumulated_rewards(N,a_opt_robust,x_0))\n",
    "    non_robust_rewards.append(cumulated_rewards(N,a_opt_nonrobust,x_0))"
   ]
  },
  {
   "cell_type": "code",
   "execution_count": 41,
   "id": "ec72aec1",
   "metadata": {},
   "outputs": [
    {
     "data": {
      "text/html": [
       "<div>\n",
       "<style scoped>\n",
       "    .dataframe tbody tr th:only-of-type {\n",
       "        vertical-align: middle;\n",
       "    }\n",
       "\n",
       "    .dataframe tbody tr th {\n",
       "        vertical-align: top;\n",
       "    }\n",
       "\n",
       "    .dataframe thead th {\n",
       "        text-align: right;\n",
       "    }\n",
       "</style>\n",
       "<table border=\"1\" class=\"dataframe\">\n",
       "  <thead>\n",
       "    <tr style=\"text-align: right;\">\n",
       "      <th></th>\n",
       "      <th>[0.4, 0.6]</th>\n",
       "      <th>[0.45, 0.5]</th>\n",
       "      <th>[0.45, 0.55]</th>\n",
       "      <th>[0.6, 0.4]</th>\n",
       "      <th>[0.5, 0.5]</th>\n",
       "      <th>[0.55, 0.45]</th>\n",
       "      <th>p</th>\n",
       "    </tr>\n",
       "  </thead>\n",
       "  <tbody>\n",
       "    <tr>\n",
       "      <th>0</th>\n",
       "      <td>125290</td>\n",
       "      <td>31045</td>\n",
       "      <td>77086</td>\n",
       "      <td>-38322</td>\n",
       "      <td>33982</td>\n",
       "      <td>-5880</td>\n",
       "      <td>Robust</td>\n",
       "    </tr>\n",
       "    <tr>\n",
       "      <th>1</th>\n",
       "      <td>122514</td>\n",
       "      <td>30898</td>\n",
       "      <td>74690</td>\n",
       "      <td>-47601</td>\n",
       "      <td>30127</td>\n",
       "      <td>-11515</td>\n",
       "      <td>Non-Robust</td>\n",
       "    </tr>\n",
       "  </tbody>\n",
       "</table>\n",
       "</div>"
      ],
      "text/plain": [
       "   [0.4, 0.6]  [0.45, 0.5]  [0.45, 0.55]  [0.6, 0.4]  [0.5, 0.5]  \\\n",
       "0      125290        31045         77086      -38322       33982   \n",
       "1      122514        30898         74690      -47601       30127   \n",
       "\n",
       "   [0.55, 0.45]           p  \n",
       "0         -5880      Robust  \n",
       "1        -11515  Non-Robust  "
      ]
     },
     "execution_count": 41,
     "metadata": {},
     "output_type": "execute_result"
    }
   ],
   "source": [
    "Results = pd.DataFrame(np.array([robust_rewards,non_robust_rewards]))\n",
    "Results.columns = [str(p) for p in Probs]\n",
    "Results[\"p\"]=[\"Robust\",\"Non-Robust\"]\n",
    "# Results= Results.set_index(\"p\").reset_index()\n",
    "Results"
   ]
  }
 ],
 "metadata": {
  "kernelspec": {
   "display_name": "Python 3 (ipykernel)",
   "language": "python",
   "name": "python3"
  },
  "language_info": {
   "codemirror_mode": {
    "name": "ipython",
    "version": 3
   },
   "file_extension": ".py",
   "mimetype": "text/x-python",
   "name": "python",
   "nbconvert_exporter": "python",
   "pygments_lexer": "ipython3",
   "version": "3.9.12"
  }
 },
 "nbformat": 4,
 "nbformat_minor": 5
}
